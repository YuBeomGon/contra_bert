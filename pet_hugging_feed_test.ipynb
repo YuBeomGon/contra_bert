{
 "cells": [
  {
   "cell_type": "code",
   "execution_count": 1,
   "metadata": {},
   "outputs": [
    {
     "name": "stdout",
     "output_type": "stream",
     "text": [
      "2.2.0\n"
     ]
    },
    {
     "name": "stderr",
     "output_type": "stream",
     "text": [
      "\u001b[34m\u001b[1mwandb\u001b[0m: \u001b[33mWARNING\u001b[0m W&B installed but not logged in.  Run `wandb login` or set the WANDB_API_KEY env variable.\n"
     ]
    },
    {
     "name": "stdout",
     "output_type": "stream",
     "text": [
      "feeding is imported\n",
      "2.2.0\n"
     ]
    }
   ],
   "source": [
    "import tensorflow as tf\n",
    "print(tf.__version__)\n",
    "import tensorflow_datasets\n",
    "from transformers import *\n",
    "import pandas as pd\n",
    "import numpy as np\n",
    "from tensorflow import keras\n",
    "\n",
    "from tensorflow.keras.layers import *\n",
    "from tensorflow.keras.models import *\n",
    "from tqdm.notebook import tqdm\n",
    "# from wandb.keras import WandbCallback\n",
    "import tensorflow_datasets as tfds\n",
    "import matplotlib.pyplot as plt\n",
    "# !wget https://raw.githubusercontent.com/wangz10/contrastive_loss/master/losses.py\n",
    "import losses\n",
    "import feed\n",
    "from feed import *\n",
    "print('feeding is imported')\n",
    "import time\n",
    "import model\n",
    "from model import *\n",
    "import sys\n",
    "\n",
    "from sklearn.preprocessing import LabelEncoder"
   ]
  },
  {
   "cell_type": "code",
   "execution_count": 2,
   "metadata": {},
   "outputs": [
    {
     "name": "stdout",
     "output_type": "stream",
     "text": [
      "6\n"
     ]
    }
   ],
   "source": [
    "train_df = pd.read_csv('files/train.csv')\n",
    "val_df = pd.read_csv('files/val.csv')\n",
    "test_df = pd.read_csv('files/test.csv')\n",
    "pred_df = pd.read_csv('files/pred.csv')\n",
    "Num_class = len(set(train_df.label.value_counts()))\n",
    "print(Num_class)"
   ]
  },
  {
   "cell_type": "code",
   "execution_count": 4,
   "metadata": {},
   "outputs": [
    {
     "name": "stdout",
     "output_type": "stream",
     "text": [
      "15\n",
      "15\n"
     ]
    }
   ],
   "source": [
    "BATCH_SIZE = 32\n",
    "MAX_SEQ_LEN = 128\n",
    "REPEAT = 2\n",
    "NUM_TRAIN_ITERATION = REPEAT * int(len(train_df) / BATCH_SIZE)\n",
    "NUM_TEST_ITERATION = int(len(test_df) / BATCH_SIZE)\n",
    "print(NUM_TRAIN_ITERATION)\n",
    "print(NUM_TEST_ITERATION)"
   ]
  },
  {
   "cell_type": "code",
   "execution_count": 5,
   "metadata": {},
   "outputs": [
    {
     "name": "stderr",
     "output_type": "stream",
     "text": [
      "Some weights of the model checkpoint at albert-base-v2 were not used when initializing TFAlbertForSequenceClassification: ['predictions']\n",
      "- This IS expected if you are initializing TFAlbertForSequenceClassification from the checkpoint of a model trained on another task or with another architecture (e.g. initializing a BertForSequenceClassification model from a BertForPretraining model).\n",
      "- This IS NOT expected if you are initializing TFAlbertForSequenceClassification from the checkpoint of a model that you expect to be exactly identical (initializing a BertForSequenceClassification model from a BertForSequenceClassification model).\n",
      "Some weights of TFAlbertForSequenceClassification were not initialized from the model checkpoint at albert-base-v2 and are newly initialized: ['dropout_3', 'classifier']\n",
      "You should probably TRAIN this model on a down-stream task to be able to use it for predictions and inference.\n"
     ]
    }
   ],
   "source": [
    "import tensorflow as tf\n",
    "from transformers import AlbertTokenizer, TFAlbertForSequenceClassification\n",
    "\n",
    "tokenizer = AlbertTokenizer.from_pretrained('albert-base-v2')\n",
    "model = TFAlbertForSequenceClassification.from_pretrained('albert-base-v2', num_labels=Num_class)\n",
    "# model = TFAlbertModel.from_pretrained('albert-base-v2')"
   ]
  },
  {
   "cell_type": "code",
   "execution_count": 6,
   "metadata": {},
   "outputs": [
    {
     "name": "stdout",
     "output_type": "stream",
     "text": [
      "<BatchDataset shapes: (((32, 128), (32, 128), (32, 128)), (32, 1)), types: ((tf.int32, tf.int32, tf.int32), tf.int32)>\n"
     ]
    }
   ],
   "source": [
    "train_dataset = create_dataset('files/train.csv',batch_size=BATCH_SIZE, \n",
    "                               tokenizer=tokenizer, max_seq_len=MAX_SEQ_LEN )\n",
    "\n",
    "val_dataset = create_dataset('files/val.csv',batch_size=BATCH_SIZE, \n",
    "                               tokenizer=tokenizer, max_seq_len=MAX_SEQ_LEN )\n",
    "\n",
    "test_dataset = create_dataset('files/test.csv',batch_size=BATCH_SIZE, \n",
    "                               tokenizer=tokenizer, max_seq_len=MAX_SEQ_LEN )\n",
    "\n",
    "pred_dataset = create_dataset('files/pred.csv',batch_size=BATCH_SIZE, \n",
    "                               tokenizer=tokenizer, max_seq_len=MAX_SEQ_LEN ,\n",
    "                              isinfer=True)"
   ]
  },
  {
   "cell_type": "code",
   "execution_count": 7,
   "metadata": {},
   "outputs": [],
   "source": [
    "# Prepare training: Compile tf.keras model with optimizer, loss and learning rate schedule\n",
    "optimizer = tf.keras.optimizers.Adam(learning_rate=3e-5, epsilon=1e-08, clipnorm=1.0)\n",
    "loss = tf.keras.losses.SparseCategoricalCrossentropy(from_logits=True)\n",
    "metric = tf.keras.metrics.SparseCategoricalAccuracy('accuracy')\n",
    "model.compile(optimizer=optimizer, loss=loss, metrics=[metric])\n",
    "# print(model.summary())"
   ]
  },
  {
   "cell_type": "code",
   "execution_count": 8,
   "metadata": {},
   "outputs": [
    {
     "name": "stdout",
     "output_type": "stream",
     "text": [
      "Epoch 1/2\n",
      "15/15 [==============================] - 169s 11s/step - loss: 1.2358 - accuracy: 0.4771 - val_loss: 1.1420 - val_accuracy: 0.4598\n",
      "Epoch 2/2\n",
      "15/15 [==============================] - 164s 11s/step - loss: 1.0380 - accuracy: 0.5417 - val_loss: 1.0737 - val_accuracy: 0.4821\n"
     ]
    }
   ],
   "source": [
    "# Train and evaluate using tf.keras.Model.fit()\n",
    "history = model.fit(train_dataset, epochs=2, steps_per_epoch=NUM_TRAIN_ITERATION,\n",
    "                    validation_data=val_dataset, validation_steps=7)"
   ]
  },
  {
   "cell_type": "code",
   "execution_count": 9,
   "metadata": {},
   "outputs": [
    {
     "name": "stdout",
     "output_type": "stream",
     "text": [
      "15/15 [==============================] - 51s 3s/step - loss: 1.0472 - accuracy: 0.5375\n"
     ]
    },
    {
     "data": {
      "text/plain": [
       "[1.047170877456665, 0.5375000238418579]"
      ]
     },
     "execution_count": 9,
     "metadata": {},
     "output_type": "execute_result"
    }
   ],
   "source": [
    "model.evaluate(test_dataset, steps = NUM_TEST_ITERATION )"
   ]
  },
  {
   "cell_type": "code",
   "execution_count": 10,
   "metadata": {},
   "outputs": [
    {
     "name": "stdout",
     "output_type": "stream",
     "text": [
      "15/15 [==============================] - 50s 3s/step\n"
     ]
    }
   ],
   "source": [
    "prediction = model.predict(pred_dataset, steps=NUM_TEST_ITERATION, verbose=1)\n",
    "print(np.argmax(prediction[0], axis =1))\n",
    "len(np.argmax(prediction[0], axis =1))"
   ]
  },
  {
   "cell_type": "code",
   "execution_count": 11,
   "metadata": {},
   "outputs": [],
   "source": []
  },
  {
   "cell_type": "code",
   "execution_count": null,
   "metadata": {},
   "outputs": [],
   "source": []
  },
  {
   "cell_type": "code",
   "execution_count": null,
   "metadata": {},
   "outputs": [],
   "source": []
  },
  {
   "cell_type": "code",
   "execution_count": null,
   "metadata": {},
   "outputs": [],
   "source": []
  },
  {
   "cell_type": "code",
   "execution_count": null,
   "metadata": {},
   "outputs": [],
   "source": []
  }
 ],
 "metadata": {
  "kernelspec": {
   "display_name": "Python 3",
   "language": "python",
   "name": "python3"
  },
  "language_info": {
   "codemirror_mode": {
    "name": "ipython",
    "version": 3
   },
   "file_extension": ".py",
   "mimetype": "text/x-python",
   "name": "python",
   "nbconvert_exporter": "python",
   "pygments_lexer": "ipython3",
   "version": "3.6.9"
  }
 },
 "nbformat": 4,
 "nbformat_minor": 4
}
